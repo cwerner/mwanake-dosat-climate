{
 "cells": [
  {
   "cell_type": "markdown",
   "id": "7592719e-cafc-4532-bea7-bea030fd3091",
   "metadata": {},
   "source": [
    "# DOsat data processing for Ricky 👨‍💻\n",
    "\n",
    ">Code to add weather data extracted from gridded reanalysis data (ERA5 Land) to DOsat measurement catalog for further downstream analysis.\n",
    "\n",
    "Christian Werner, 2021-10-26"
   ]
  },
  {
   "cell_type": "code",
   "execution_count": null,
   "id": "4583bc34-2172-47c2-8db8-5ef6e0a2bd5f",
   "metadata": {},
   "outputs": [],
   "source": [
    "import xarray as xr\n",
    "import pandas as pd\n",
    "import geopandas as gpd\n",
    "import datetime\n",
    "from joblib import delayed, Parallel\n",
    "from tqdm import tqdm\n",
    "from functools import partial\n",
    "import numpy as np\n",
    "import os\n",
    "\n",
    "\n",
    "import hvplot.pandas\n",
    "\n",
    "WORKERS = 16"
   ]
  },
  {
   "cell_type": "code",
   "execution_count": null,
   "id": "ac863dfc-93dc-433c-9db6-6797b7eb81b3",
   "metadata": {},
   "outputs": [],
   "source": [
    "# source thredds login secrets: THREDDS_USER, THREDDS_PASSWORD\n",
    "%load_ext dotenv\n",
    "%dotenv .env\n",
    "\n",
    "THREDDS_USER=os.getenv('THREDDS_USER')\n",
    "THREDDS_PASSWORD=os.getenv('THREDDS_PASSWORD')"
   ]
  },
  {
   "cell_type": "markdown",
   "id": "b46de766-bbf4-4686-95b7-a7d935456c84",
   "metadata": {},
   "source": [
    "## Data loading and cleanup 🧹"
   ]
  },
  {
   "cell_type": "code",
   "execution_count": null,
   "id": "6ea15d2e-2a80-44ae-82b0-6fd1377cc64d",
   "metadata": {},
   "outputs": [],
   "source": [
    "df = pd.read_csv(\"data/raw/DOSAT_GRQA_R.csv\", low_memory=False)\n",
    "df = df.dropna(subset=['DOsat'])                                   # drop na rows\n",
    "df.loc[:,\"obs_date\"] = pd.to_datetime(df.obs_date)                 # convert date/ time to proper dt dtype \n",
    "df.loc[:,\"obs_time\"] = pd.to_timedelta(df.obs_time)\n",
    "df[\"datetime\"] = df.obs_date + df.obs_time\n",
    "df = df[(df.datetime.dt.year >= 1981) & (df.datetime.dt.year <= 2019)]                               # limit data to years >= 1981\n",
    "df = gpd.GeoDataFrame(df, geometry=gpd.points_from_xy(df.lon_wgs84, df.lat_wgs84), crs='epsg:4326')\n",
    "df = df.drop(columns=['obs_date', 'obs_time',                      # drop unnecessary columns\n",
    "                      'source_param_name', 'source_param_code', \n",
    "                      'param_code', 'param_name', \n",
    "                      'lat_wgs84', 'lon_wgs84'], axis=1)\n",
    "df.head(2)"
   ]
  },
  {
   "cell_type": "code",
   "execution_count": null,
   "id": "65c7e1a9-a7d9-4b3f-9df9-dbed3b9fcb53",
   "metadata": {},
   "outputs": [],
   "source": [
    "(df.drop_duplicates(subset=['site_id'])\n",
    "   .to_crs(epsg=3857)\n",
    "   .hvplot.points(figsize=(14,5), color='red', tiles='StamenTerrainRetina', hover_cols=['datetime', 'DOsat'])\n",
    ")"
   ]
  },
  {
   "cell_type": "markdown",
   "id": "b9f30303-6990-44f5-b515-214ea76c7642",
   "metadata": {},
   "source": [
    "## ERA5 Land reanalysis data\n",
    "\n",
    "... loaded from internal THREDDs Server at [IMK-IFU, KIT](https://www.imk-ifu.kit.edu) (source: [ERA5 Land](https://cds.climate.copernicus.eu/cdsapp#!/dataset/reanalysis-era5-land?tab=overview))"
   ]
  },
  {
   "cell_type": "code",
   "execution_count": null,
   "id": "4110c939-b928-4dff-a704-eec8027065db",
   "metadata": {},
   "outputs": [],
   "source": [
    "LEAD_TIME = 3 # days (incl. obs day)"
   ]
  },
  {
   "cell_type": "code",
   "execution_count": null,
   "id": "35817971-205c-4c4c-9bef-e9aa83dcb9ee",
   "metadata": {},
   "outputs": [],
   "source": [
    "def fix_coords(ds: xr.Dataset, lon_name: str = \"longitude\") -> xr.Dataset:\n",
    "    \"\"\"fix coords and remove bnds dim if present\"\"\"\n",
    "    ds.coords['longitude'] = (ds.coords['longitude'] + 180) % 360 - 180\n",
    "    \n",
    "    if 'bnds' in list(ds.dims.keys()):\n",
    "        ds = ds.drop_dims(\"bnds\")\n",
    "        ds.coords['time'] = ds.time.dt.floor(freq='1d')\n",
    "    return ds.sortby(ds.longitude)"
   ]
  },
  {
   "cell_type": "code",
   "execution_count": null,
   "id": "8c8d9944-0a49-4f7f-bc86-34d104f3d568",
   "metadata": {},
   "outputs": [],
   "source": [
    "def process_data(sample_date, sample, *, ds_tp=None, ds_t2m=None) -> xr.Dataset:\n",
    "    YEAR = sample_date.year\n",
    "    \n",
    "\n",
    "    # NOTE: we currently do not check if date extends into the previous year!\n",
    "    interval = slice(sample_date - datetime.timedelta(days=LEAD_TIME-1), sample_date)\n",
    "    subset = xr.merge(\n",
    "        [\n",
    "            # 3day lead time for precip \n",
    "            fix_coords(ds_tp).sel(time=interval).sum(dim='time', skipna=False),\n",
    "            # actual date only for temp\n",
    "            fix_coords(ds_t2m).sel(time=sample_date.strftime(format=\"%Y-%m-%d\"), drop=True) - 273.15 \n",
    "        ]\n",
    "    )\n",
    "\n",
    "    lats = xr.DataArray(sample.geometry.y, dims='points') \n",
    "    lons = xr.DataArray(sample.geometry.x, dims='points')\n",
    "    \n",
    "    # select by coords\n",
    "    points = subset.sel(latitude = lats, longitude = lons, method = 'nearest')\n",
    "    \n",
    "    # round and merge data\n",
    "    sample[\"temp\"] = points.t2m.round(1)\n",
    "    sample[\"precip_3h\"] = points.tp.round(1)\n",
    "\n",
    "    return sample"
   ]
  },
  {
   "cell_type": "code",
   "execution_count": null,
   "id": "c32f29c6-e3b6-4b7e-8ec1-893c5d2cbb2a",
   "metadata": {},
   "outputs": [],
   "source": [
    "# get data\n",
    "all_samples = []\n",
    "\n",
    "URL = \"thredds.imk-ifu.kit.edu:9670/thredds/dodsC/regclim/raster/global/era5_land/daily\"\n",
    "\n",
    "for year, sample_year in df.groupby(df.datetime.dt.year):\n",
    "    \n",
    "    ds_tp = xr.open_dataset(f\"https://{THREDDS_USER}:{THREDDS_PASSWORD}@{URL}/ERA5_Land_daily_tp_{year}.nc\")\n",
    "    ds_t2m = xr.open_dataset(f\"https://{THREDDS_USER}:{THREDDS_PASSWORD}@{URL}/ERA5_Land_daily_t2m_{year}.nc\")\n",
    "\n",
    "    samples = Parallel(n_jobs=WORKERS)(\n",
    "        delayed(\n",
    "            partial(process_data, ds_tp=ds_tp, ds_t2m=ds_t2m)\n",
    "        )(sample_date, sample) for sample_date, sample in tqdm(sample_year.groupby(sample_year.datetime.dt.date), desc=f\"{year}\")\n",
    "    )\n",
    "\n",
    "    all_samples.extend(samples)\n",
    "    "
   ]
  },
  {
   "cell_type": "code",
   "execution_count": null,
   "id": "c09bad76-616b-415b-a130-7bdaeebfecf7",
   "metadata": {},
   "outputs": [],
   "source": [
    "def sanitize_for_shp_output(df):\n",
    "    \"\"\"trim colnames and convert datetime cols for shp export\"\"\"\n",
    "    df.columns = [x[:10] for x in df.columns]\n",
    "    coltypes = gpd.io.file.infer_schema(df)['properties']\n",
    "    for colname, coltype in coltypes.items():\n",
    "        if coltype == 'datetime':\n",
    "            df[colname] = df[colname].astype('str')\n",
    "    return df"
   ]
  },
  {
   "cell_type": "code",
   "execution_count": null,
   "id": "0154adbd-6500-4cbc-9765-b34348aea9f1",
   "metadata": {},
   "outputs": [],
   "source": [
    "def extract_lat_lon_from_geometry(df):\n",
    "    \"\"\"convert point geometry to latitude, longitude cols\"\"\"\n",
    "    df[\"longitude\"] = df.geometry.x\n",
    "    df[\"latitude\"] = df.geometry.y\n",
    "    return df.drop(\"geometry\", axis=1)"
   ]
  },
  {
   "cell_type": "code",
   "execution_count": null,
   "id": "1fb11c83-c6cc-4d7f-b6e4-3f135045953f",
   "metadata": {},
   "outputs": [],
   "source": [
    "df_out = pd.concat(all_samples, axis=0).sort_index()\n",
    "df_out.pipe(extract_lat_lon_from_geometry).to_csv(\"dosat_with_weather.csv\", index=False)\n",
    "df_out.pipe(sanitize_for_shp_output).to_file(\"dosat_with_weather.shp\")\n",
    "df_out.head()"
   ]
  },
  {
   "cell_type": "markdown",
   "id": "b1f1720a-a762-4db3-a519-44f3bd20b133",
   "metadata": {},
   "source": [
    "## Some plotting "
   ]
  },
  {
   "cell_type": "code",
   "execution_count": null,
   "id": "d67c8f1b-1087-4b1a-9ea5-1b94008a4d0a",
   "metadata": {},
   "outputs": [],
   "source": [
    "q_low = df_out[\"precip_3h\"].quantile(0.01)\n",
    "q_hi  = df_out[\"precip_3h\"].quantile(0.99)\n",
    "\n",
    "df_out = df_out[(df_out[\"precip_3h\"] < q_hi) & (df_out[\"precip_3h\"] > q_low)]"
   ]
  },
  {
   "cell_type": "code",
   "execution_count": null,
   "id": "41c6001c-8d0a-498c-88db-bf0e618a1d8c",
   "metadata": {},
   "outputs": [],
   "source": [
    "q_low = df_out[\"DOsat\"].quantile(0.05)\n",
    "q_hi  = df_out[\"DOsat\"].quantile(0.95)\n",
    "\n",
    "df_out = df_out[(df_out[\"DOsat\"] < q_hi) & (df_out[\"DOsat\"] > q_low)]"
   ]
  },
  {
   "cell_type": "code",
   "execution_count": null,
   "id": "344dd866-b0d7-4b74-900b-75c2c75c7460",
   "metadata": {},
   "outputs": [],
   "source": [
    "df_out.plot.hexbin(\n",
    "    x='precip_3h', y='temp', C='DOsat', \n",
    "    gridsize=25, \n",
    "    reduce_C_function=np.mean, \n",
    "    cmap='inferno', \n",
    "    figsize=(9,9)\n",
    ");"
   ]
  }
 ],
 "metadata": {
  "kernelspec": {
   "display_name": "Python 3 (ipykernel)",
   "language": "python",
   "name": "python3"
  },
  "language_info": {
   "codemirror_mode": {
    "name": "ipython",
    "version": 3
   },
   "file_extension": ".py",
   "mimetype": "text/x-python",
   "name": "python",
   "nbconvert_exporter": "python",
   "pygments_lexer": "ipython3",
   "version": "3.8.10"
  }
 },
 "nbformat": 4,
 "nbformat_minor": 5
}
